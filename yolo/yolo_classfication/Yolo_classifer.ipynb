{
 "cells": [
  {
   "cell_type": "code",
   "execution_count": 3,
   "id": "ae67387d-dbbe-4b17-a8f4-3f7488cb4b11",
   "metadata": {
    "tags": []
   },
   "outputs": [
    {
     "name": "stdout",
     "output_type": "stream",
     "text": [
      "Ultralytics 8.3.40 🚀 Python-3.10.16 torch-2.5.1+cu124 CPU (12th Gen Intel Core(TM) i7-1260P)\n",
      "Setup complete ✅ (16 CPUs, 15.3 GB RAM, 347.6/467.3 GB disk)\n"
     ]
    }
   ],
   "source": [
    "import ultralytics\n",
    "ultralytics.checks()"
   ]
  },
  {
   "cell_type": "markdown",
   "id": "b189656b-e6cb-4bbe-b4cb-6e8b572d9509",
   "metadata": {},
   "source": [
    "**Testing with yolov8 nano model**"
   ]
  },
  {
   "cell_type": "code",
   "execution_count": 16,
   "id": "36d362f5-3313-426b-9dc0-f66844fa8a67",
   "metadata": {
    "tags": []
   },
   "outputs": [
    {
     "name": "stdout",
     "output_type": "stream",
     "text": [
      "Downloading https://github.com/ultralytics/assets/releases/download/v8.3.0/yolo11n-cls.pt to 'yolo11n-cls.pt'...\n"
     ]
    },
    {
     "name": "stderr",
     "output_type": "stream",
     "text": [
      "100%|██████████████████████████████████████| 5.52M/5.52M [00:03<00:00, 1.65MB/s]\n"
     ]
    },
    {
     "name": "stdout",
     "output_type": "stream",
     "text": [
      "Ultralytics 8.3.40 🚀 Python-3.10.16 torch-2.5.1+cu124 CPU (12th Gen Intel Core(TM) i7-1260P)\n",
      "\u001b[34m\u001b[1mengine/trainer: \u001b[0mtask=classify, mode=train, model=yolo11n-cls.pt, data=/home/hari07/workspace/intern/Dataseprator/dataset, epochs=3, time=None, patience=100, batch=16, imgsz=224, save=True, save_period=-1, cache=False, device=None, workers=8, project=None, name=train10, exist_ok=False, pretrained=True, optimizer=auto, verbose=True, seed=0, deterministic=True, single_cls=False, rect=False, cos_lr=False, close_mosaic=10, resume=False, amp=True, fraction=1.0, profile=False, freeze=None, multi_scale=False, overlap_mask=True, mask_ratio=4, dropout=0.0, val=True, split=val, save_json=False, save_hybrid=False, conf=None, iou=0.7, max_det=300, half=False, dnn=False, plots=True, source=None, vid_stride=1, stream_buffer=False, visualize=False, augment=False, agnostic_nms=False, classes=None, retina_masks=False, embed=None, show=False, save_frames=False, save_txt=False, save_conf=False, save_crop=False, show_labels=True, show_conf=True, show_boxes=True, line_width=None, format=torchscript, keras=False, optimize=False, int8=False, dynamic=False, simplify=True, opset=None, workspace=None, nms=False, lr0=0.01, lrf=0.01, momentum=0.937, weight_decay=0.0005, warmup_epochs=3.0, warmup_momentum=0.8, warmup_bias_lr=0.1, box=7.5, cls=0.5, dfl=1.5, pose=12.0, kobj=1.0, nbs=64, hsv_h=0.015, hsv_s=0.7, hsv_v=0.4, degrees=0.0, translate=0.1, scale=0.5, shear=0.0, perspective=0.0, flipud=0.0, fliplr=0.5, bgr=0.0, mosaic=1.0, mixup=0.0, copy_paste=0.0, copy_paste_mode=flip, auto_augment=randaugment, erasing=0.4, crop_fraction=1.0, cfg=None, tracker=botsort.yaml, save_dir=runs/classify/train10\n",
      "\u001b[34m\u001b[1mtrain:\u001b[0m /home/hari07/workspace/intern/Dataseprator/dataset/train... found 3625 images in 2 classes ✅ \n",
      "\u001b[34m\u001b[1mval:\u001b[0m /home/hari07/workspace/intern/Dataseprator/dataset/val... found 1042 images in 2 classes ✅ \n",
      "\u001b[34m\u001b[1mtest:\u001b[0m /home/hari07/workspace/intern/Dataseprator/dataset/test... found 513 images in 2 classes ✅ \n",
      "Overriding model.yaml nc=80 with nc=2\n",
      "\n",
      "                   from  n    params  module                                       arguments                     \n",
      "  0                  -1  1       464  ultralytics.nn.modules.conv.Conv             [3, 16, 3, 2]                 \n",
      "  1                  -1  1      4672  ultralytics.nn.modules.conv.Conv             [16, 32, 3, 2]                \n",
      "  2                  -1  1      6640  ultralytics.nn.modules.block.C3k2            [32, 64, 1, False, 0.25]      \n",
      "  3                  -1  1     36992  ultralytics.nn.modules.conv.Conv             [64, 64, 3, 2]                \n",
      "  4                  -1  1     26080  ultralytics.nn.modules.block.C3k2            [64, 128, 1, False, 0.25]     \n",
      "  5                  -1  1    147712  ultralytics.nn.modules.conv.Conv             [128, 128, 3, 2]              \n",
      "  6                  -1  1     87040  ultralytics.nn.modules.block.C3k2            [128, 128, 1, True]           \n",
      "  7                  -1  1    295424  ultralytics.nn.modules.conv.Conv             [128, 256, 3, 2]              \n",
      "  8                  -1  1    346112  ultralytics.nn.modules.block.C3k2            [256, 256, 1, True]           \n",
      "  9                  -1  1    249728  ultralytics.nn.modules.block.C2PSA           [256, 256, 1]                 \n",
      " 10                  -1  1    332802  ultralytics.nn.modules.head.Classify         [256, 2]                      \n",
      "YOLO11n-cls summary: 151 layers, 1,533,666 parameters, 1,533,666 gradients, 3.3 GFLOPs\n",
      "Transferred 234/236 items from pretrained weights\n",
      "\u001b[34m\u001b[1mTensorBoard: \u001b[0mStart with 'tensorboard --logdir runs/classify/train10', view at http://localhost:6006/\n"
     ]
    },
    {
     "name": "stderr",
     "output_type": "stream",
     "text": [
      "\u001b[34m\u001b[1mtrain: \u001b[0mScanning /home/hari07/workspace/intern/Dataseprator/dataset/train... 3625\u001b[0m"
     ]
    },
    {
     "name": "stdout",
     "output_type": "stream",
     "text": [
      "\u001b[34m\u001b[1mtrain: \u001b[0mNew cache created: /home/hari07/workspace/intern/Dataseprator/dataset/train.cache\n"
     ]
    },
    {
     "name": "stderr",
     "output_type": "stream",
     "text": [
      "\n",
      "\u001b[34m\u001b[1mval: \u001b[0mScanning /home/hari07/workspace/intern/Dataseprator/dataset/val... 1042 ima\u001b[0m"
     ]
    },
    {
     "name": "stdout",
     "output_type": "stream",
     "text": [
      "\u001b[34m\u001b[1mval: \u001b[0mNew cache created: /home/hari07/workspace/intern/Dataseprator/dataset/val.cache\n",
      "\u001b[34m\u001b[1moptimizer:\u001b[0m 'optimizer=auto' found, ignoring 'lr0=0.01' and 'momentum=0.937' and determining best 'optimizer', 'lr0' and 'momentum' automatically... \n",
      "\u001b[34m\u001b[1moptimizer:\u001b[0m AdamW(lr=0.000714, momentum=0.9) with parameter groups 39 weight(decay=0.0), 40 weight(decay=0.0005), 40 bias(decay=0.0)\n"
     ]
    },
    {
     "name": "stderr",
     "output_type": "stream",
     "text": [
      "\n"
     ]
    },
    {
     "name": "stdout",
     "output_type": "stream",
     "text": [
      "\u001b[34m\u001b[1mTensorBoard: \u001b[0mmodel graph visualization added ✅\n",
      "Image sizes 224 train, 224 val\n",
      "Using 0 dataloader workers\n",
      "Logging results to \u001b[1mruns/classify/train10\u001b[0m\n",
      "Starting training for 3 epochs...\n",
      "\n",
      "      Epoch    GPU_mem       loss  Instances       Size\n"
     ]
    },
    {
     "name": "stderr",
     "output_type": "stream",
     "text": [
      "        1/3         0G     0.3801          9        224: 100%|██████████| 227/22\n",
      "               classes   top1_acc   top5_acc: 100%|██████████| 33/33 [00:08<00:0"
     ]
    },
    {
     "name": "stdout",
     "output_type": "stream",
     "text": [
      "                   all      0.925          1\n"
     ]
    },
    {
     "name": "stderr",
     "output_type": "stream",
     "text": [
      "\n"
     ]
    },
    {
     "name": "stdout",
     "output_type": "stream",
     "text": [
      "\n",
      "      Epoch    GPU_mem       loss  Instances       Size\n"
     ]
    },
    {
     "name": "stderr",
     "output_type": "stream",
     "text": [
      "        2/3         0G     0.2374          9        224: 100%|██████████| 227/22\n",
      "               classes   top1_acc   top5_acc: 100%|██████████| 33/33 [00:07<00:0"
     ]
    },
    {
     "name": "stdout",
     "output_type": "stream",
     "text": [
      "                   all      0.954          1\n"
     ]
    },
    {
     "name": "stderr",
     "output_type": "stream",
     "text": [
      "\n"
     ]
    },
    {
     "name": "stdout",
     "output_type": "stream",
     "text": [
      "\n",
      "      Epoch    GPU_mem       loss  Instances       Size\n"
     ]
    },
    {
     "name": "stderr",
     "output_type": "stream",
     "text": [
      "        3/3         0G     0.2046          9        224: 100%|██████████| 227/22\n",
      "               classes   top1_acc   top5_acc: 100%|██████████| 33/33 [00:06<00:0"
     ]
    },
    {
     "name": "stdout",
     "output_type": "stream",
     "text": [
      "                   all      0.964          1\n"
     ]
    },
    {
     "name": "stderr",
     "output_type": "stream",
     "text": [
      "\n"
     ]
    },
    {
     "name": "stdout",
     "output_type": "stream",
     "text": [
      "\n",
      "3 epochs completed in 0.066 hours.\n",
      "Optimizer stripped from runs/classify/train10/weights/last.pt, 3.2MB\n",
      "Optimizer stripped from runs/classify/train10/weights/best.pt, 3.2MB\n",
      "\n",
      "Validating runs/classify/train10/weights/best.pt...\n",
      "Ultralytics 8.3.40 🚀 Python-3.10.16 torch-2.5.1+cu124 CPU (12th Gen Intel Core(TM) i7-1260P)\n",
      "YOLO11n-cls summary (fused): 112 layers, 1,528,586 parameters, 0 gradients, 3.2 GFLOPs\n",
      "\u001b[34m\u001b[1mtrain:\u001b[0m /home/hari07/workspace/intern/Dataseprator/dataset/train... found 3625 images in 2 classes ✅ \n",
      "\u001b[34m\u001b[1mval:\u001b[0m /home/hari07/workspace/intern/Dataseprator/dataset/val... found 1042 images in 2 classes ✅ \n",
      "\u001b[34m\u001b[1mtest:\u001b[0m /home/hari07/workspace/intern/Dataseprator/dataset/test... found 513 images in 2 classes ✅ \n"
     ]
    },
    {
     "name": "stderr",
     "output_type": "stream",
     "text": [
      "               classes   top1_acc   top5_acc: 100%|██████████| 33/33 [00:06<00:0\n"
     ]
    },
    {
     "name": "stdout",
     "output_type": "stream",
     "text": [
      "                   all      0.964          1\n",
      "Speed: 0.0ms preprocess, 3.2ms inference, 0.0ms loss, 0.0ms postprocess per image\n",
      "Results saved to \u001b[1mruns/classify/train10\u001b[0m\n"
     ]
    }
   ],
   "source": [
    "from ultralytics import YOLO\n",
    "\n",
    "# Load a pretrained YOLO model (you can choose different model sizes like 'yolov8n' or 'yolov8s')\n",
    "model = YOLO('yolo11n-cls.pt')\n",
    "\n",
    "# Train the model\n",
    "results = model.train(data='/home/hari07/workspace/intern/Dataseprator/dataset', epochs=3)\n"
   ]
  },
  {
   "cell_type": "code",
   "execution_count": 26,
   "id": "dee4338a-f11a-4302-81b5-f55cfe5a0bc6",
   "metadata": {
    "tags": []
   },
   "outputs": [
    {
     "name": "stdout",
     "output_type": "stream",
     "text": [
      "Ultralytics 8.3.40 🚀 Python-3.10.16 torch-2.5.1+cu124 CPU (12th Gen Intel Core(TM) i7-1260P)\n",
      "YOLO11n-cls summary (fused): 112 layers, 1,528,586 parameters, 0 gradients, 3.2 GFLOPs\n",
      "\n",
      "\u001b[34m\u001b[1mPyTorch:\u001b[0m starting from 'runs/classify/train10/weights/best.pt' with input shape (1, 3, 224, 224) BCHW and output shape(s) (1, 2) (3.0 MB)\n",
      "\n",
      "\u001b[34m\u001b[1mTorchScript:\u001b[0m starting export with torch 2.5.1+cu124...\n",
      "\u001b[34m\u001b[1mTorchScript:\u001b[0m export success ✅ 0.4s, saved as 'runs/classify/train10/weights/best.torchscript' (6.0 MB)\n",
      "\n",
      "Export complete (0.5s)\n",
      "Results saved to \u001b[1m/home/hari07/workspace/intern/using yolo classification/runs/classify/train10/weights\u001b[0m\n",
      "Predict:         yolo predict task=classify model=runs/classify/train10/weights/best.torchscript imgsz=224  \n",
      "Validate:        yolo val task=classify model=runs/classify/train10/weights/best.torchscript imgsz=224 data=/home/hari07/workspace/intern/Dataseprator/dataset  \n",
      "Visualize:       https://netron.app\n"
     ]
    }
   ],
   "source": [
    "results = model.export(format='torchscript')"
   ]
  },
  {
   "cell_type": "code",
   "execution_count": null,
   "id": "2cc7b9bc-e566-4ddc-af5c-f9638df0f7a2",
   "metadata": {
    "tags": []
   },
   "outputs": [
    {
     "name": "stdout",
     "output_type": "stream",
     "text": [
      "\n",
      "image 1/1 /home/hari07/workspace/intern/anomaly_detection_test_data/anomaly_detection_test_data/bad/23_09_2024_11_50_22.445295_cls_input.png: 224x224 good 0.76, bad 0.24, 11.5ms\n",
      "Speed: 4.8ms preprocess, 11.5ms inference, 0.1ms postprocess per image at shape (1, 3, 224, 224)\n",
      "Results saved to \u001b[1mruns/classify/predict10\u001b[0m\n"
     ]
    }
   ],
   "source": [
    "from ultralytics import YOLO\n",
    "\n",
    "# Load a pretrained YOLO11n model\n",
    "model = YOLO(\"/home/hari07/workspace/intern/models/classify_best.pt\")\n",
    "\n",
    "result=model.predict(\"/home/hari07/workspace/intern/Dataseprator/dataset/val/good/05_08_2024_10_45_11.733416_classifier_input.png\", save=True, imgsz=320, conf=0.5)"
   ]
  },
  {
   "cell_type": "code",
   "execution_count": 12,
   "id": "2198e1f6",
   "metadata": {},
   "outputs": [],
   "source": [
    "probs = result[0].probs\n",
    "conf= probs.top1conf  \n",
    "label=probs.top1 "
   ]
  },
  {
   "cell_type": "code",
   "execution_count": 13,
   "id": "c8a0c3ca",
   "metadata": {},
   "outputs": [
    {
     "data": {
      "text/plain": [
       "ultralytics.engine.results.Probs object with attributes:\n",
       "\n",
       "data: tensor([0.2366, 0.7634])\n",
       "orig_shape: None\n",
       "shape: torch.Size([2])\n",
       "top1: 1\n",
       "top1conf: tensor(0.7634)\n",
       "top5: [1, 0]\n",
       "top5conf: tensor([0.7634, 0.2366])"
      ]
     },
     "execution_count": 13,
     "metadata": {},
     "output_type": "execute_result"
    }
   ],
   "source": [
    "probs"
   ]
  },
  {
   "cell_type": "code",
   "execution_count": 14,
   "id": "b18c6e88",
   "metadata": {},
   "outputs": [],
   "source": [
    "class_labels = [\"bad\", \"good\"]\n",
    "class_lab=class_labels[label]"
   ]
  },
  {
   "cell_type": "code",
   "execution_count": 15,
   "id": "37f53149",
   "metadata": {},
   "outputs": [
    {
     "data": {
      "text/plain": [
       "'good'"
      ]
     },
     "execution_count": 15,
     "metadata": {},
     "output_type": "execute_result"
    }
   ],
   "source": [
    "class_lab"
   ]
  }
 ],
 "metadata": {
  "kernelspec": {
   "display_name": "LLM",
   "language": "python",
   "name": "llm"
  },
  "language_info": {
   "codemirror_mode": {
    "name": "ipython",
    "version": 3
   },
   "file_extension": ".py",
   "mimetype": "text/x-python",
   "name": "python",
   "nbconvert_exporter": "python",
   "pygments_lexer": "ipython3",
   "version": "3.9.12"
  }
 },
 "nbformat": 4,
 "nbformat_minor": 5
}
