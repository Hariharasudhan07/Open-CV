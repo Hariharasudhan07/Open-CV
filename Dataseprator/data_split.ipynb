{
 "cells": [
  {
   "cell_type": "markdown",
   "id": "8909e054-864a-4218-a96f-7e7653b918b8",
   "metadata": {},
   "source": [
    "**In this we going to split the data using train test split in sklearn**\n",
    "\n",
    ">Train data 70 %\n",
    "\n",
    ">Test data 20 %\n",
    "\n",
    ">Valid data 10 %\n"
   ]
  },
  {
   "cell_type": "code",
   "execution_count": 7,
   "id": "8c4f03cc-cf93-457c-b788-045f129f7d36",
   "metadata": {
    "tags": []
   },
   "outputs": [],
   "source": [
    "import os\n",
    "import shutil\n",
    "from sklearn.model_selection import train_test_split"
   ]
  },
  {
   "cell_type": "code",
   "execution_count": 13,
   "id": "a7adc71e-1474-4cfc-9c09-329ca0575f3b",
   "metadata": {
    "tags": []
   },
   "outputs": [
    {
     "name": "stdout",
     "output_type": "stream",
     "text": [
      "Dataset split into train, validation, and test sets successfully!\n"
     ]
    }
   ],
   "source": [
    "\n",
    "\n",
    "# Define dataset paths\n",
    "original_dataset_dir = \"/home/hari07/workspace/intern/anomaly_detection_test_data/anomaly_detection_test_data\"  # The folder containing \"good\" and \"bad\" subfolders\n",
    "base_dir = \"/home/hari07/workspace/intern/Dataseprator\"        # Directory to store the split dataset\n",
    "\n",
    "# Create split directories\n",
    "train_dir = os.path.join(base_dir, 'train')\n",
    "val_dir = os.path.join(base_dir, 'val')\n",
    "test_dir = os.path.join(base_dir, 'test')\n",
    "\n",
    "# Subfolders for good and bad images\n",
    "categories = ['good', 'bad']\n",
    "\n",
    "for split_dir in [train_dir, val_dir, test_dir]:\n",
    "    for category in categories:\n",
    "        os.makedirs(os.path.join(split_dir, category), exist_ok=True)\n",
    "\n",
    "# Split dataset\n",
    "for category in categories:\n",
    "    category_dir = os.path.join(original_dataset_dir, category)\n",
    "    images = os.listdir(category_dir)\n",
    "\n",
    "    # Split into train, validation, and test sets (e.g., 70%, 20%, 10%)\n",
    "    train_imgs, temp_imgs = train_test_split(images, test_size=0.3, random_state=42)\n",
    "    val_imgs, test_imgs = train_test_split(temp_imgs, test_size=0.33, random_state=42)  # 0.33 of 30% = 10%\n",
    "\n",
    "    # Copy images to respective directories\n",
    "    for img in train_imgs:\n",
    "        shutil.copy(os.path.join(category_dir, img), os.path.join(train_dir, category))\n",
    "\n",
    "    for img in val_imgs:\n",
    "        shutil.copy(os.path.join(category_dir, img), os.path.join(val_dir, category))\n",
    "\n",
    "    for img in test_imgs:\n",
    "        shutil.copy(os.path.join(category_dir, img), os.path.join(test_dir, category))\n",
    "\n",
    "print(\"Dataset split into train, validation, and test sets successfully!\")\n"
   ]
  },
  {
   "cell_type": "markdown",
   "id": "c62c4630-8c99-4a4c-92ee-5cb9ba874dc8",
   "metadata": {},
   "source": [
    "**The data has been seprated**\n",
    "\n",
    "Dataseprator/\n",
    "\n",
    ">── train/\n",
    "\n",
    ">>── good/\n",
    "\n",
    ">>── bad/\n",
    "\n",
    ">── val/\n",
    "\n",
    ">>── good/\n",
    "\n",
    ">>── bad/\n",
    "\n",
    ">── test/\n",
    ">>── good/ \n",
    "\n",
    ">>── bad/\n"
   ]
  }
 ],
 "metadata": {
  "kernelspec": {
   "display_name": "open-cv",
   "language": "python",
   "name": "open-cv"
  },
  "language_info": {
   "codemirror_mode": {
    "name": "ipython",
    "version": 3
   },
   "file_extension": ".py",
   "mimetype": "text/x-python",
   "name": "python",
   "nbconvert_exporter": "python",
   "pygments_lexer": "ipython3",
   "version": "3.10.16"
  }
 },
 "nbformat": 4,
 "nbformat_minor": 5
}
